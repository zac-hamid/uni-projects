{
 "cells": [
  {
   "cell_type": "code",
   "execution_count": null,
   "metadata": {},
   "outputs": [],
   "source": [
    "import cv2\n",
    "import matplotlib.pyplot as plt\n",
    "import numpy as np\n",
    "import time, os"
   ]
  },
  {
   "cell_type": "markdown",
   "metadata": {},
   "source": [
    "#### Initialise network"
   ]
  },
  {
   "cell_type": "code",
   "execution_count": null,
   "metadata": {
    "scrolled": true
   },
   "outputs": [],
   "source": [
    "#net = cv2.dnn.readNet('yolov2-tiny.weights', 'tinyYolo.cfg')\n",
    "#net = cv2.dnn.readNet('yolov3.weights', 'yolo_v3_416.cfg')\n",
    "#net = cv2.dnn.readNet('yolov3_608.weights', 'yolo_v3_608.cfg')\n",
    "net = cv2.dnn.readNet('yolov3.weights','yolov3.cfg')\n",
    "\n",
    "with open(\"coco.names\", \"r\") as f:\n",
    "    classes = [line.strip() for line in f.readlines()]\n",
    "\n",
    "layer_names = net.getLayerNames()\n",
    "output_layers = [layer_names[i[0] - 1] for i in net.getUnconnectedOutLayers()]\n",
    "colors = np.random.uniform(0, 255, size=(len(classes), 3))\n",
    "\n",
    "img = cv2.imread('sequence/000001.jpg')\n",
    "img.shape\n",
    "height, width, channels = img.shape\n",
    "\n",
    "blob = cv2.dnn.blobFromImage(img, 0.00392, (416, 416), (0, 0, 0), True, crop=False)\n",
    "net.setInput(blob)\n",
    "outs = net.forward(output_layers)"
   ]
  },
  {
   "cell_type": "markdown",
   "metadata": {},
   "source": [
    "#### Run detection on video"
   ]
  },
  {
   "cell_type": "code",
   "execution_count": null,
   "metadata": {},
   "outputs": [],
   "source": [
    "def get_detection(img):\n",
    "    blob = cv2.dnn.blobFromImage(img, 0.00392, (416, 416), (0, 0, 0), True, crop=False)\n",
    "    net.setInput(blob)\n",
    "    outs = net.forward(output_layers)\n",
    "    \n",
    "    class_ids = []\n",
    "    confidences = []\n",
    "    boxes = []\n",
    "    for out in outs:\n",
    "        for detection in out:\n",
    "            scores = detection[5:]\n",
    "            class_id = np.argmax(scores)\n",
    "            confidence = scores[class_id]\n",
    "            if confidence > 0.5:\n",
    "                # Object detected\n",
    "                center_x = int(detection[0] * width)\n",
    "                center_y = int(detection[1] * height)\n",
    "                w = int(detection[2] * width)\n",
    "                h = int(detection[3] * height)\n",
    "                # Rectangle coordinates\n",
    "                x = int(center_x - w / 2)\n",
    "                y = int(center_y - h / 2)\n",
    "                boxes.append([x, y, w, h])\n",
    "                confidences.append(float(confidence))\n",
    "                class_ids.append(class_id)\n",
    "    indexes = cv2.dnn.NMSBoxes(boxes, confidences, 0.5, 0.4)\n",
    "    return boxes, indexes, class_ids\n",
    "\n",
    "\n",
    "def draw_rectangles(boxes, indexes, class_ids):\n",
    "    font = cv2.FONT_HERSHEY_PLAIN\n",
    "    for i in range(len(boxes)):\n",
    "        if i in indexes:\n",
    "            x, y, w, h = boxes[i]\n",
    "\n",
    "            label = str(classes[class_ids[i]])\n",
    "            if label == 'person':\n",
    "                color = colors[i]\n",
    "                cv2.rectangle(img, (x, y), (x + w, y + h), (255,0,0), 2)\n",
    "                #cv2.putText(img, label, (x, y + 30), font, 3, (255,0,0), 3)\n",
    "\n",
    "    cv2.imshow(\"Image\", img)\n",
    "    cv2.waitKey(1)   \n",
    "    return img\n"
   ]
  },
  {
   "cell_type": "markdown",
   "metadata": {},
   "source": [
    "#### Playback"
   ]
  },
  {
   "cell_type": "code",
   "execution_count": null,
   "metadata": {},
   "outputs": [],
   "source": [
    "nb_frames = 10\n",
    "\n",
    "for i in range(1, nb_frames):\n",
    "    path = f'sequence/{i:06d}.jpg'\n",
    "    img = cv2.imread(path)\n",
    "    boxes, indexes, class_ids = get_detection(img)\n",
    "    draw_rectangles(boxes, indexes, class_ids)\n",
    "\n",
    "cv2.destroyAllWindows()"
   ]
  },
  {
   "cell_type": "markdown",
   "metadata": {},
   "source": [
    "#### Writing to files"
   ]
  },
  {
   "cell_type": "code",
   "execution_count": null,
   "metadata": {},
   "outputs": [],
   "source": [
    "nb_pictures = 10#795\n",
    "\n",
    "for i in range(1, nb_pictures):\n",
    "    path = f'sequence/{i:06d}.jpg'\n",
    "    img = cv2.imread(path)\n",
    "    boxes, indexes, class_ids = get_detection(img)\n",
    "#     print(\"**********Boxes:\")\n",
    "#     print(boxes)\n",
    "#     print(\"**********Indexes:\")\n",
    "#     print(indexes)\n",
    "#     print('')\n",
    "    img = draw_rectangles(boxes, indexes, class_ids)\n",
    "    cv2.imwrite(f'render/rect.{i:06d}.jpg', img)\n",
    "\n",
    "\n",
    "cv2.destroyAllWindows()"
   ]
  },
  {
   "cell_type": "code",
   "execution_count": null,
   "metadata": {},
   "outputs": [],
   "source": []
  },
  {
   "cell_type": "code",
   "execution_count": null,
   "metadata": {},
   "outputs": [],
   "source": []
  }
 ],
 "metadata": {
  "kernelspec": {
   "display_name": "Python 3",
   "language": "python",
   "name": "python3"
  },
  "language_info": {
   "codemirror_mode": {
    "name": "ipython",
    "version": 3
   },
   "file_extension": ".py",
   "mimetype": "text/x-python",
   "name": "python",
   "nbconvert_exporter": "python",
   "pygments_lexer": "ipython3",
   "version": "3.7.4"
  }
 },
 "nbformat": 4,
 "nbformat_minor": 4
}
