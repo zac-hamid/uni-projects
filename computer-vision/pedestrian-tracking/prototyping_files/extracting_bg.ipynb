{
 "cells": [
  {
   "cell_type": "code",
   "execution_count": 32,
   "metadata": {},
   "outputs": [],
   "source": [
    "import numpy as np\n",
    "import matplotlib.pyplot as plt\n",
    "import cv2\n",
    "from PIL import Image\n",
    "from skimage import io as skio\n",
    "from os import listdir"
   ]
  },
  {
   "cell_type": "code",
   "execution_count": 14,
   "metadata": {},
   "outputs": [],
   "source": [
    "url = 'sequence/000001.jpg'\n",
    "img = Image.open('sequence/000001.jpg')\n",
    "img.show()"
   ]
  },
  {
   "cell_type": "code",
   "execution_count": 30,
   "metadata": {},
   "outputs": [
    {
     "name": "stdout",
     "output_type": "stream",
     "text": [
      "(576, 768, 3)\n"
     ]
    }
   ],
   "source": [
    "img1 = cv2.imread('sequence/000001.jpg').astype(np.int8)\n",
    "img2 = cv2.imread('sequence/000042.jpg').astype(np.int8)\n",
    "print(img2.shape)\n",
    "difference = cv2.subtract(img1, img2)"
   ]
  },
  {
   "cell_type": "code",
   "execution_count": 31,
   "metadata": {},
   "outputs": [],
   "source": [
    "difference = difference.astype(np.float32)\n",
    "ret,thresh1 = cv2.threshold(difference,50,255,cv2.THRESH_BINARY)"
   ]
  },
  {
   "cell_type": "markdown",
   "metadata": {},
   "source": [
    "#### Reconstruct bg image:"
   ]
  },
  {
   "cell_type": "code",
   "execution_count": 74,
   "metadata": {},
   "outputs": [],
   "source": [
    "img1 = np.array(Image.open('sequence/000001.jpg'))\n",
    "img2 = np.array(Image.open('sequence/000101.jpg'))\n",
    "img3 = np.array(Image.open('sequence/000201.jpg'))\n",
    "img4 = np.array(Image.open('sequence/000301.jpg'))\n",
    "img5 = np.array(Image.open('sequence/000401.jpg'))\n",
    "img6 = np.array(Image.open('sequence/000501.jpg'))\n",
    "img7 = np.array(Image.open('sequence/000601.jpg'))\n",
    "img8 = np.array(Image.open('sequence/000701.jpg'))\n",
    "\n",
    "sequence = np.stack((img1, img2, img3, img4, img5, img6, img7, img8), axis=3)\n",
    "\n",
    "bg = np.median(sequence, axis=3).astype(np.uint8)\n",
    "\n",
    "#Image.fromarray(bg).save('result.png')\n",
    "\n",
    "bg_image = Image.fromarray(bg)"
   ]
  },
  {
   "cell_type": "markdown",
   "metadata": {},
   "source": [
    "#### Get difference between bg and an image:"
   ]
  },
  {
   "cell_type": "code",
   "execution_count": 85,
   "metadata": {},
   "outputs": [],
   "source": [
    "img1 = np.array(Image.open('sequence/000001.jpg'))\n",
    "\n",
    "difference = cv2.subtract(bg, img1).astype(np.uint8)\n",
    "\n",
    "difference = Image.fromarray(difference)"
   ]
  },
  {
   "cell_type": "code",
   "execution_count": 87,
   "metadata": {},
   "outputs": [],
   "source": [
    "ret,thresh1 = cv2.threshold(difference,50,255,cv2.THRESH_BINARY)\n",
    "thresh1 = Image.fromarray(thresh1)\n",
    "thresh1.show()"
   ]
  }
 ],
 "metadata": {
  "kernelspec": {
   "display_name": "Python 3",
   "language": "python",
   "name": "python3"
  },
  "language_info": {
   "codemirror_mode": {
    "name": "ipython",
    "version": 3
   },
   "file_extension": ".py",
   "mimetype": "text/x-python",
   "name": "python",
   "nbconvert_exporter": "python",
   "pygments_lexer": "ipython3",
   "version": "3.6.8"
  }
 },
 "nbformat": 4,
 "nbformat_minor": 4
}
